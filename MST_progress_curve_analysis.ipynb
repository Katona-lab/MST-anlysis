{
  "nbformat": 4,
  "nbformat_minor": 0,
  "metadata": {
    "colab": {
      "name": "MST_progress_curve_analysis.ipynb",
      "provenance": [],
      "authorship_tag": "ABX9TyN5xWW3+KFtAyhHFxgr9X+6",
      "include_colab_link": true
    },
    "kernelspec": {
      "name": "python3",
      "display_name": "Python 3"
    },
    "language_info": {
      "name": "python"
    },
    "widgets": {
      "application/vnd.jupyter.widget-state+json": {
        "f1128e5412e44d27892c20352314c4f7": {
          "model_module": "@jupyter-widgets/controls",
          "model_name": "HBoxModel",
          "model_module_version": "1.5.0",
          "state": {
            "_dom_classes": [],
            "_model_module": "@jupyter-widgets/controls",
            "_model_module_version": "1.5.0",
            "_model_name": "HBoxModel",
            "_view_count": null,
            "_view_module": "@jupyter-widgets/controls",
            "_view_module_version": "1.5.0",
            "_view_name": "HBoxView",
            "box_style": "",
            "children": [
              "IPY_MODEL_c6714255cabb4c5b84fc9cdd0dc39f4c",
              "IPY_MODEL_c8b07222011b4b70bd369573e100b830"
            ],
            "layout": "IPY_MODEL_4833df432361402bb83593c93498812c"
          }
        },
        "c6714255cabb4c5b84fc9cdd0dc39f4c": {
          "model_module": "@jupyter-widgets/controls",
          "model_name": "VBoxModel",
          "model_module_version": "1.5.0",
          "state": {
            "_dom_classes": [],
            "_model_module": "@jupyter-widgets/controls",
            "_model_module_version": "1.5.0",
            "_model_name": "VBoxModel",
            "_view_count": null,
            "_view_module": "@jupyter-widgets/controls",
            "_view_module_version": "1.5.0",
            "_view_name": "VBoxView",
            "box_style": "",
            "children": [
              "IPY_MODEL_9b4648a266aa4fe396c3e3a5afdc05ad",
              "IPY_MODEL_07b635e5eecb49989df4a7b17c4593a3"
            ],
            "layout": "IPY_MODEL_ae30fa92c1ea41079a20980cf35d928c"
          }
        },
        "c8b07222011b4b70bd369573e100b830": {
          "model_module": "@jupyter-widgets/output",
          "model_name": "OutputModel",
          "model_module_version": "1.0.0",
          "state": {
            "_dom_classes": [],
            "_model_module": "@jupyter-widgets/output",
            "_model_module_version": "1.0.0",
            "_model_name": "OutputModel",
            "_view_count": null,
            "_view_module": "@jupyter-widgets/output",
            "_view_module_version": "1.0.0",
            "_view_name": "OutputView",
            "layout": "IPY_MODEL_97aa9814c3ab4a588036a333112555c5",
            "msg_id": "",
            "outputs": [
              {
                "output_type": "display_data",
                "data": {
                  "text/plain": "<Figure size 432x288 with 1 Axes>",
                  "image/png": "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\n"
                },
                "metadata": {
                  "needs_background": "light"
                }
              }
            ]
          }
        },
        "4833df432361402bb83593c93498812c": {
          "model_module": "@jupyter-widgets/base",
          "model_name": "LayoutModel",
          "model_module_version": "1.2.0",
          "state": {
            "_model_module": "@jupyter-widgets/base",
            "_model_module_version": "1.2.0",
            "_model_name": "LayoutModel",
            "_view_count": null,
            "_view_module": "@jupyter-widgets/base",
            "_view_module_version": "1.2.0",
            "_view_name": "LayoutView",
            "align_content": null,
            "align_items": null,
            "align_self": null,
            "border": null,
            "bottom": null,
            "display": null,
            "flex": null,
            "flex_flow": null,
            "grid_area": null,
            "grid_auto_columns": null,
            "grid_auto_flow": null,
            "grid_auto_rows": null,
            "grid_column": null,
            "grid_gap": null,
            "grid_row": null,
            "grid_template_areas": null,
            "grid_template_columns": null,
            "grid_template_rows": null,
            "height": null,
            "justify_content": null,
            "justify_items": null,
            "left": null,
            "margin": null,
            "max_height": null,
            "max_width": null,
            "min_height": null,
            "min_width": null,
            "object_fit": null,
            "object_position": null,
            "order": null,
            "overflow": null,
            "overflow_x": null,
            "overflow_y": null,
            "padding": null,
            "right": null,
            "top": null,
            "visibility": null,
            "width": null
          }
        },
        "9b4648a266aa4fe396c3e3a5afdc05ad": {
          "model_module": "@jupyter-widgets/controls",
          "model_name": "IntRangeSliderModel",
          "model_module_version": "1.5.0",
          "state": {
            "_dom_classes": [],
            "_model_module": "@jupyter-widgets/controls",
            "_model_module_version": "1.5.0",
            "_model_name": "IntRangeSliderModel",
            "_view_count": null,
            "_view_module": "@jupyter-widgets/controls",
            "_view_module_version": "1.5.0",
            "_view_name": "IntRangeSliderView",
            "continuous_update": false,
            "description": "Data_range:",
            "description_tooltip": null,
            "disabled": false,
            "layout": "IPY_MODEL_bff8ec407b944ba0bd67d0c43e66f546",
            "max": 543,
            "min": 0,
            "orientation": "horizontal",
            "readout": true,
            "readout_format": "d",
            "step": 1,
            "style": "IPY_MODEL_488dbf1298dd4b6e9353252d3fbcea8b",
            "value": [
              0,
              456
            ]
          }
        },
        "07b635e5eecb49989df4a7b17c4593a3": {
          "model_module": "@jupyter-widgets/controls",
          "model_name": "IntSliderModel",
          "model_module_version": "1.5.0",
          "state": {
            "_dom_classes": [],
            "_model_module": "@jupyter-widgets/controls",
            "_model_module_version": "1.5.0",
            "_model_name": "IntSliderModel",
            "_view_count": null,
            "_view_module": "@jupyter-widgets/controls",
            "_view_module_version": "1.5.0",
            "_view_name": "IntSliderView",
            "continuous_update": true,
            "description": "IR_pos:",
            "description_tooltip": null,
            "disabled": false,
            "layout": "IPY_MODEL_6d16eb4b797e464290911f9bf21d5af4",
            "max": 543,
            "min": 0,
            "orientation": "horizontal",
            "readout": true,
            "readout_format": "d",
            "step": 1,
            "style": "IPY_MODEL_6e7824efb615466892bad7ca65da5541",
            "value": 75
          }
        },
        "ae30fa92c1ea41079a20980cf35d928c": {
          "model_module": "@jupyter-widgets/base",
          "model_name": "LayoutModel",
          "model_module_version": "1.2.0",
          "state": {
            "_model_module": "@jupyter-widgets/base",
            "_model_module_version": "1.2.0",
            "_model_name": "LayoutModel",
            "_view_count": null,
            "_view_module": "@jupyter-widgets/base",
            "_view_module_version": "1.2.0",
            "_view_name": "LayoutView",
            "align_content": null,
            "align_items": null,
            "align_self": null,
            "border": null,
            "bottom": null,
            "display": null,
            "flex": null,
            "flex_flow": null,
            "grid_area": null,
            "grid_auto_columns": null,
            "grid_auto_flow": null,
            "grid_auto_rows": null,
            "grid_column": null,
            "grid_gap": null,
            "grid_row": null,
            "grid_template_areas": null,
            "grid_template_columns": null,
            "grid_template_rows": null,
            "height": null,
            "justify_content": null,
            "justify_items": null,
            "left": null,
            "margin": null,
            "max_height": null,
            "max_width": null,
            "min_height": null,
            "min_width": null,
            "object_fit": null,
            "object_position": null,
            "order": null,
            "overflow": null,
            "overflow_x": null,
            "overflow_y": null,
            "padding": null,
            "right": null,
            "top": null,
            "visibility": null,
            "width": null
          }
        },
        "bff8ec407b944ba0bd67d0c43e66f546": {
          "model_module": "@jupyter-widgets/base",
          "model_name": "LayoutModel",
          "model_module_version": "1.2.0",
          "state": {
            "_model_module": "@jupyter-widgets/base",
            "_model_module_version": "1.2.0",
            "_model_name": "LayoutModel",
            "_view_count": null,
            "_view_module": "@jupyter-widgets/base",
            "_view_module_version": "1.2.0",
            "_view_name": "LayoutView",
            "align_content": null,
            "align_items": null,
            "align_self": null,
            "border": null,
            "bottom": null,
            "display": null,
            "flex": null,
            "flex_flow": null,
            "grid_area": null,
            "grid_auto_columns": null,
            "grid_auto_flow": null,
            "grid_auto_rows": null,
            "grid_column": null,
            "grid_gap": null,
            "grid_row": null,
            "grid_template_areas": null,
            "grid_template_columns": null,
            "grid_template_rows": null,
            "height": null,
            "justify_content": null,
            "justify_items": null,
            "left": null,
            "margin": null,
            "max_height": null,
            "max_width": null,
            "min_height": null,
            "min_width": null,
            "object_fit": null,
            "object_position": null,
            "order": null,
            "overflow": null,
            "overflow_x": null,
            "overflow_y": null,
            "padding": null,
            "right": null,
            "top": null,
            "visibility": null,
            "width": null
          }
        },
        "488dbf1298dd4b6e9353252d3fbcea8b": {
          "model_module": "@jupyter-widgets/controls",
          "model_name": "SliderStyleModel",
          "model_module_version": "1.5.0",
          "state": {
            "_model_module": "@jupyter-widgets/controls",
            "_model_module_version": "1.5.0",
            "_model_name": "SliderStyleModel",
            "_view_count": null,
            "_view_module": "@jupyter-widgets/base",
            "_view_module_version": "1.2.0",
            "_view_name": "StyleView",
            "description_width": "",
            "handle_color": null
          }
        },
        "6d16eb4b797e464290911f9bf21d5af4": {
          "model_module": "@jupyter-widgets/base",
          "model_name": "LayoutModel",
          "model_module_version": "1.2.0",
          "state": {
            "_model_module": "@jupyter-widgets/base",
            "_model_module_version": "1.2.0",
            "_model_name": "LayoutModel",
            "_view_count": null,
            "_view_module": "@jupyter-widgets/base",
            "_view_module_version": "1.2.0",
            "_view_name": "LayoutView",
            "align_content": null,
            "align_items": null,
            "align_self": null,
            "border": null,
            "bottom": null,
            "display": null,
            "flex": null,
            "flex_flow": null,
            "grid_area": null,
            "grid_auto_columns": null,
            "grid_auto_flow": null,
            "grid_auto_rows": null,
            "grid_column": null,
            "grid_gap": null,
            "grid_row": null,
            "grid_template_areas": null,
            "grid_template_columns": null,
            "grid_template_rows": null,
            "height": null,
            "justify_content": null,
            "justify_items": null,
            "left": null,
            "margin": null,
            "max_height": null,
            "max_width": null,
            "min_height": null,
            "min_width": null,
            "object_fit": null,
            "object_position": null,
            "order": null,
            "overflow": null,
            "overflow_x": null,
            "overflow_y": null,
            "padding": null,
            "right": null,
            "top": null,
            "visibility": null,
            "width": null
          }
        },
        "6e7824efb615466892bad7ca65da5541": {
          "model_module": "@jupyter-widgets/controls",
          "model_name": "SliderStyleModel",
          "model_module_version": "1.5.0",
          "state": {
            "_model_module": "@jupyter-widgets/controls",
            "_model_module_version": "1.5.0",
            "_model_name": "SliderStyleModel",
            "_view_count": null,
            "_view_module": "@jupyter-widgets/base",
            "_view_module_version": "1.2.0",
            "_view_name": "StyleView",
            "description_width": "",
            "handle_color": null
          }
        },
        "97aa9814c3ab4a588036a333112555c5": {
          "model_module": "@jupyter-widgets/base",
          "model_name": "LayoutModel",
          "model_module_version": "1.2.0",
          "state": {
            "_model_module": "@jupyter-widgets/base",
            "_model_module_version": "1.2.0",
            "_model_name": "LayoutModel",
            "_view_count": null,
            "_view_module": "@jupyter-widgets/base",
            "_view_module_version": "1.2.0",
            "_view_name": "LayoutView",
            "align_content": null,
            "align_items": null,
            "align_self": null,
            "border": null,
            "bottom": null,
            "display": null,
            "flex": null,
            "flex_flow": null,
            "grid_area": null,
            "grid_auto_columns": null,
            "grid_auto_flow": null,
            "grid_auto_rows": null,
            "grid_column": null,
            "grid_gap": null,
            "grid_row": null,
            "grid_template_areas": null,
            "grid_template_columns": null,
            "grid_template_rows": null,
            "height": null,
            "justify_content": null,
            "justify_items": null,
            "left": null,
            "margin": null,
            "max_height": null,
            "max_width": null,
            "min_height": null,
            "min_width": null,
            "object_fit": null,
            "object_position": null,
            "order": null,
            "overflow": null,
            "overflow_x": null,
            "overflow_y": null,
            "padding": null,
            "right": null,
            "top": null,
            "visibility": null,
            "width": null
          }
        }
      }
    }
  },
  "cells": [
    {
      "cell_type": "markdown",
      "metadata": {
        "id": "view-in-github",
        "colab_type": "text"
      },
      "source": [
        "<a href=\"https://colab.research.google.com/github/Katona-lab/MST-analysis/blob/main/MST_progress_curve_analysis.ipynb\" target=\"_parent\"><img src=\"https://colab.research.google.com/assets/colab-badge.svg\" alt=\"Open In Colab\"/></a>"
      ]
    },
    {
      "cell_type": "code",
      "source": [
        "#@title STEP 1: Start here by selecting an Excel MST file exported by the Nanotemper software.\n",
        "#@markdown To activate a step press the Play button on the left. Run the steps sequentially, but chose only one alternative if alternative steps are offered.<p>\n",
        "#@markdown Please cite this article: <p>\n",
        "#@markdown Atsarina Larasati Anindya, Maria-Jose Garcia-Bonete, Maja Jensen, Christian V. Recktenwald, Maria Bokarewa and Gergely Katona <i>Bayesian Progress Curve Analysis of MicroScale Thermophoresis Data.</i>\n",
        "#@markdown (2022) <b><i>Digital discovery</i></b>, <b>1</b>, 325-332.<p>\n",
        "#@markdown https://doi.org/10.1039/D1DD00026H\n",
        "# (c) 2022 Gergely Katona <gergely.katona@gu.se>\n",
        "import io\n",
        "import pandas as pd\n",
        "from google.colab import files\n",
        "import numpy as np\n",
        "import pymc as pm\n",
        "import pylab as plt\n",
        "import pytensor.tensor as T\n",
        "from pymc.math import switch\n",
        "import arviz as az\n",
        "\n",
        "#Experimental data description \n",
        "uploaded = files.upload()\n",
        "\n",
        "df=pd.read_excel(io.BytesIO(uploaded[list(uploaded.keys())[0]]))\n",
        "\n",
        "ligpos=df.loc[df.iloc[:,0] == 'Ligand Concentration:'].index[0]\n",
        "firsttimepos=df.loc[df.iloc[:,0] == 'Time [s]'].index[0]\n",
        "targind=df.loc[df.iloc[:,0] == 'TargetConcentration:'].index[0]\n",
        "FluoConc=df.iloc[targind,1]\n",
        "\n",
        "cideal=df.iloc[ligpos,1::3]\n",
        "onedtime=df.iloc[firsttimepos+1:,0].reset_index(drop=True)\n",
        "firstIRtimepos=onedtime.loc[onedtime==0].index[0]\n",
        "fluorescence=df.iloc[firsttimepos+1:,1::3].reset_index(drop=True)\n",
        "fluorescence=fluorescence.T.reset_index(drop=True).T\n",
        "Capillary=len(cideal)\n",
        "start_t=onedtime.iloc[0]\n",
        "end_t=onedtime.iloc[-1]\n",
        "print (\"The data starts at position %i, which corresponds to %f s.\" % (0,start_t))\n",
        "print (\"The data ends at position %i, which corresponds to %f s.\" % (len(onedtime),end_t))\n",
        "print (\"The IR laser is supposed to be ON from position %i, which corresponds to 0 s.\"% (firstIRtimepos))\n",
        "print (\"The target concentration is %E .\"% FluoConc)\n",
        "if FluoConc < 1:\n",
        "  print (\"I guess you are using units of M?\")\n",
        "if FluoConc > 1:\n",
        "  print (\"I guess you are using units of nM?\")\n",
        "print (\"%i capillaries were used.\" % Capillary)\n",
        "print (\"The ligand concentrations are %s . \"% list(cideal))\n",
        "print (\"Units hopefully are in nM (due to the numerical limits of KD prior) and the KD will be expressed in the same unit. If these concentrations are invalid, please edit them in the input excel file.\")"
      ],
      "metadata": {
        "colab": {
          "base_uri": "https://localhost:8080/",
          "height": 212
        },
        "id": "ZCsUQyVH106b",
        "outputId": "383e87ac-984b-4c95-b9b9-d468608374e3",
        "cellView": "form"
      },
      "execution_count": null,
      "outputs": [
        {
          "output_type": "display_data",
          "data": {
            "text/plain": [
              "<IPython.core.display.HTML object>"
            ],
            "text/html": [
              "\n",
              "     <input type=\"file\" id=\"files-c52aa183-de1b-4d0f-a625-aa7eed589143\" name=\"files[]\" multiple disabled\n",
              "        style=\"border:none\" />\n",
              "     <output id=\"result-c52aa183-de1b-4d0f-a625-aa7eed589143\">\n",
              "      Upload widget is only available when the cell has been executed in the\n",
              "      current browser session. Please rerun this cell to enable.\n",
              "      </output>\n",
              "      <script>// Copyright 2017 Google LLC\n",
              "//\n",
              "// Licensed under the Apache License, Version 2.0 (the \"License\");\n",
              "// you may not use this file except in compliance with the License.\n",
              "// You may obtain a copy of the License at\n",
              "//\n",
              "//      http://www.apache.org/licenses/LICENSE-2.0\n",
              "//\n",
              "// Unless required by applicable law or agreed to in writing, software\n",
              "// distributed under the License is distributed on an \"AS IS\" BASIS,\n",
              "// WITHOUT WARRANTIES OR CONDITIONS OF ANY KIND, either express or implied.\n",
              "// See the License for the specific language governing permissions and\n",
              "// limitations under the License.\n",
              "\n",
              "/**\n",
              " * @fileoverview Helpers for google.colab Python module.\n",
              " */\n",
              "(function(scope) {\n",
              "function span(text, styleAttributes = {}) {\n",
              "  const element = document.createElement('span');\n",
              "  element.textContent = text;\n",
              "  for (const key of Object.keys(styleAttributes)) {\n",
              "    element.style[key] = styleAttributes[key];\n",
              "  }\n",
              "  return element;\n",
              "}\n",
              "\n",
              "// Max number of bytes which will be uploaded at a time.\n",
              "const MAX_PAYLOAD_SIZE = 100 * 1024;\n",
              "\n",
              "function _uploadFiles(inputId, outputId) {\n",
              "  const steps = uploadFilesStep(inputId, outputId);\n",
              "  const outputElement = document.getElementById(outputId);\n",
              "  // Cache steps on the outputElement to make it available for the next call\n",
              "  // to uploadFilesContinue from Python.\n",
              "  outputElement.steps = steps;\n",
              "\n",
              "  return _uploadFilesContinue(outputId);\n",
              "}\n",
              "\n",
              "// This is roughly an async generator (not supported in the browser yet),\n",
              "// where there are multiple asynchronous steps and the Python side is going\n",
              "// to poll for completion of each step.\n",
              "// This uses a Promise to block the python side on completion of each step,\n",
              "// then passes the result of the previous step as the input to the next step.\n",
              "function _uploadFilesContinue(outputId) {\n",
              "  const outputElement = document.getElementById(outputId);\n",
              "  const steps = outputElement.steps;\n",
              "\n",
              "  const next = steps.next(outputElement.lastPromiseValue);\n",
              "  return Promise.resolve(next.value.promise).then((value) => {\n",
              "    // Cache the last promise value to make it available to the next\n",
              "    // step of the generator.\n",
              "    outputElement.lastPromiseValue = value;\n",
              "    return next.value.response;\n",
              "  });\n",
              "}\n",
              "\n",
              "/**\n",
              " * Generator function which is called between each async step of the upload\n",
              " * process.\n",
              " * @param {string} inputId Element ID of the input file picker element.\n",
              " * @param {string} outputId Element ID of the output display.\n",
              " * @return {!Iterable<!Object>} Iterable of next steps.\n",
              " */\n",
              "function* uploadFilesStep(inputId, outputId) {\n",
              "  const inputElement = document.getElementById(inputId);\n",
              "  inputElement.disabled = false;\n",
              "\n",
              "  const outputElement = document.getElementById(outputId);\n",
              "  outputElement.innerHTML = '';\n",
              "\n",
              "  const pickedPromise = new Promise((resolve) => {\n",
              "    inputElement.addEventListener('change', (e) => {\n",
              "      resolve(e.target.files);\n",
              "    });\n",
              "  });\n",
              "\n",
              "  const cancel = document.createElement('button');\n",
              "  inputElement.parentElement.appendChild(cancel);\n",
              "  cancel.textContent = 'Cancel upload';\n",
              "  const cancelPromise = new Promise((resolve) => {\n",
              "    cancel.onclick = () => {\n",
              "      resolve(null);\n",
              "    };\n",
              "  });\n",
              "\n",
              "  // Wait for the user to pick the files.\n",
              "  const files = yield {\n",
              "    promise: Promise.race([pickedPromise, cancelPromise]),\n",
              "    response: {\n",
              "      action: 'starting',\n",
              "    }\n",
              "  };\n",
              "\n",
              "  cancel.remove();\n",
              "\n",
              "  // Disable the input element since further picks are not allowed.\n",
              "  inputElement.disabled = true;\n",
              "\n",
              "  if (!files) {\n",
              "    return {\n",
              "      response: {\n",
              "        action: 'complete',\n",
              "      }\n",
              "    };\n",
              "  }\n",
              "\n",
              "  for (const file of files) {\n",
              "    const li = document.createElement('li');\n",
              "    li.append(span(file.name, {fontWeight: 'bold'}));\n",
              "    li.append(span(\n",
              "        `(${file.type || 'n/a'}) - ${file.size} bytes, ` +\n",
              "        `last modified: ${\n",
              "            file.lastModifiedDate ? file.lastModifiedDate.toLocaleDateString() :\n",
              "                                    'n/a'} - `));\n",
              "    const percent = span('0% done');\n",
              "    li.appendChild(percent);\n",
              "\n",
              "    outputElement.appendChild(li);\n",
              "\n",
              "    const fileDataPromise = new Promise((resolve) => {\n",
              "      const reader = new FileReader();\n",
              "      reader.onload = (e) => {\n",
              "        resolve(e.target.result);\n",
              "      };\n",
              "      reader.readAsArrayBuffer(file);\n",
              "    });\n",
              "    // Wait for the data to be ready.\n",
              "    let fileData = yield {\n",
              "      promise: fileDataPromise,\n",
              "      response: {\n",
              "        action: 'continue',\n",
              "      }\n",
              "    };\n",
              "\n",
              "    // Use a chunked sending to avoid message size limits. See b/62115660.\n",
              "    let position = 0;\n",
              "    do {\n",
              "      const length = Math.min(fileData.byteLength - position, MAX_PAYLOAD_SIZE);\n",
              "      const chunk = new Uint8Array(fileData, position, length);\n",
              "      position += length;\n",
              "\n",
              "      const base64 = btoa(String.fromCharCode.apply(null, chunk));\n",
              "      yield {\n",
              "        response: {\n",
              "          action: 'append',\n",
              "          file: file.name,\n",
              "          data: base64,\n",
              "        },\n",
              "      };\n",
              "\n",
              "      let percentDone = fileData.byteLength === 0 ?\n",
              "          100 :\n",
              "          Math.round((position / fileData.byteLength) * 100);\n",
              "      percent.textContent = `${percentDone}% done`;\n",
              "\n",
              "    } while (position < fileData.byteLength);\n",
              "  }\n",
              "\n",
              "  // All done.\n",
              "  yield {\n",
              "    response: {\n",
              "      action: 'complete',\n",
              "    }\n",
              "  };\n",
              "}\n",
              "\n",
              "scope.google = scope.google || {};\n",
              "scope.google.colab = scope.google.colab || {};\n",
              "scope.google.colab._files = {\n",
              "  _uploadFiles,\n",
              "  _uploadFilesContinue,\n",
              "};\n",
              "})(self);\n",
              "</script> "
            ]
          },
          "metadata": {}
        },
        {
          "output_type": "stream",
          "name": "stdout",
          "text": [
            "Saving MSTTraces_Sgo2_run1.xlsx to MSTTraces_Sgo2_run1.xlsx\n",
            "The data starts at position 0, which corresponds to -5.514154 s.\n",
            "The data ends at position 543, which corresponds to 34.947815 s.\n",
            "The IR laser is supposed to be ON from position 73, which corresponds to 0 s.\n",
            "The target concentration is 2.000000E+01 .\n",
            "I guess you are using units of nM?\n",
            "16 capillaries were used.\n",
            "The ligand concentrations are [500000, 250000, 125000, 62500, 31250, 15625, 7812.5, 3906.25, 1953.125, 976.5625, 488.2813, 244.1406, 122.0703, 61.0352, 30.5176, 15.2588] . \n",
            "Units hopefully are in nM (due to the numerical limits of KD prior) and the KD will be expressed in the same unit. If these concentrations are invalid, please edit them in the input excel file.\n"
          ]
        }
      ]
    },
    {
      "cell_type": "code",
      "source": [
        "#@title STEP 2: Displaying and verifying the data. Adjusting data range and laser start. { run: \"auto\" }\n",
        "import ipywidgets as widgets\n",
        "from IPython.display import display\n",
        "#@markdown Step 2.1: Inspect the progress curve. Is this the data you want to model? The program tries to guess a suitable end point automatically, by choosing the minimum of Fnorm. This initial guess will vary from capillary to capillary, but once you start modelling the last displayed end data point will be used for for all capillaries. Please feel free to override data range according to your wishes, keep in mind that linear kinetic processes can increase Fnorm after the exponential processes finished and the model has a chance to deal with them. In that case, feel free to extend the data range beyond the time Fnorm reaches the absolute minimum.<p>\n",
        "#@markdown Step 2.2: Zoom in with the sliders to the laser start point and adjust to the point where the Fnorm starts to drop rapidly. Experience shows that there is a few ms delay between time 0 of the instrument and the first sign of response in Fnorm. An empirical delay is already automatically applied to the laser start.<p>\n",
        "#@markdown Step 2.3: Reset the end slider to the end of the IR irradiation period or any point earlier. The model does not take into account the recovery phase after the IR laser is swiched off.\n",
        "Cap_display = \"1\" #@param [\"1\", \"2\", \"3\", \"4\", \"5\", \"6\", \"7\", \"8\", \"9\", \"10\", \"11\", \"12\", \"13\", \"14\", \"15\", \"16\"]\n",
        "\n",
        "Data_range=widgets.IntRangeSlider(\n",
        "    value=[0, fluorescence[int(Capillary)-1].astype(float).idxmin()],\n",
        "    min=0,\n",
        "    max=len(onedtime),\n",
        "    step=1,\n",
        "    description='Data_range:',\n",
        "    disabled=False,\n",
        "    continuous_update=False,\n",
        "    orientation='horizontal',\n",
        "    readout=True,\n",
        "    readout_format='d',\n",
        ")\n",
        "\n",
        "\n",
        "IR_pos=widgets.IntSlider(\n",
        "    value=firstIRtimepos+2,\n",
        "    min=0,\n",
        "    max=len(onedtime),\n",
        "    step=1,\n",
        "    description='IR_pos:',\n",
        "    disabled=False\n",
        ")\n",
        "\n",
        "def f(Data_range, IR_pos):\n",
        "    Start_pos,End_pos=Data_range\n",
        "    fig, ax = plt.subplots()\n",
        "    ax.plot(onedtime[Start_pos:End_pos],fluorescence[int(Cap_display)-1].astype(float).iloc[Start_pos:End_pos], color='gray')\n",
        "    ax.annotate('IR laser', \n",
        "            xy=(onedtime[IR_pos], 1), \n",
        "            xytext=(onedtime[IR_pos], 0.95), \n",
        "            arrowprops = dict(facecolor='red', shrink=0.05)\n",
        "    )\n",
        "    plt.xlabel (\"Time (s)\")\n",
        "    plt.ylabel (r\"$F_{norm}$\")\n",
        "out = widgets.interactive_output(f, {'Data_range': Data_range, 'IR_pos': IR_pos})\n",
        "\n",
        "widgets.HBox([widgets.VBox([Data_range, IR_pos]), out])\n",
        "\n"
      ],
      "metadata": {
        "id": "ZlemQ5w9m5KJ",
        "outputId": "d315f7dc-daf0-460f-e259-6187597ff355",
        "colab": {
          "base_uri": "https://localhost:8080/",
          "height": 279,
          "referenced_widgets": [
            "f1128e5412e44d27892c20352314c4f7",
            "c6714255cabb4c5b84fc9cdd0dc39f4c",
            "c8b07222011b4b70bd369573e100b830",
            "4833df432361402bb83593c93498812c",
            "9b4648a266aa4fe396c3e3a5afdc05ad",
            "07b635e5eecb49989df4a7b17c4593a3",
            "ae30fa92c1ea41079a20980cf35d928c",
            "bff8ec407b944ba0bd67d0c43e66f546",
            "488dbf1298dd4b6e9353252d3fbcea8b",
            "6d16eb4b797e464290911f9bf21d5af4",
            "6e7824efb615466892bad7ca65da5541",
            "97aa9814c3ab4a588036a333112555c5"
          ]
        },
        "cellView": "form"
      },
      "execution_count": null,
      "outputs": [
        {
          "output_type": "display_data",
          "data": {
            "text/plain": [
              "HBox(children=(VBox(children=(IntRangeSlider(value=(0, 456), continuous_update=False, description='Data_range:…"
            ],
            "application/vnd.jupyter.widget-view+json": {
              "version_major": 2,
              "version_minor": 0,
              "model_id": "f1128e5412e44d27892c20352314c4f7"
            }
          },
          "metadata": {}
        }
      ]
    },
    {
      "cell_type": "code",
      "source": [
        "#@title STEP 3.1 (Alternative 1): Perform the MCMC sampling (linear phase starts before the IR irradiation)\n",
        "#@markdown Use scenario: The fluroescence signal (Fnorm) is not stable at 1 before IR irradiation. Possible reasons: photodamage, unstable protein, not fully equilibrated target:ligand interaction.\n",
        "\n",
        "#@markdown Choose the concentration units to provide appropriate prior distribution for K_D.\n",
        "\n",
        "K_D_prior=\"informative uniform prior for nM units\" #@param [\"informative uniform prior for nM units\", \"informative uniform prior for M units\", \"flat exponential prior for any unit\"]\n",
        "\n",
        "#@markdown Enter the number of tuning and sampling steps for the Markov Chain Monte Carlo algorithm. Decrease these only if you know what you are doing.\n",
        "Tuning = 1000 #@param {type:\"number\"}\n",
        "Samples = 2000 #@param {type:\"number\"}\n",
        "\n",
        "IR=IR_pos.value\n",
        "start,end=Data_range.value\n",
        "cap=int(Capillary)\n",
        "time=np.array([onedtime[:,]]*cap,dtype=float).transpose()\n",
        "with pm.Model() as model:\n",
        "    if K_D_prior==\"informative uniform prior for nM units\":\n",
        "        K_D = pm.Uniform('K_D', 1, 1e6)\n",
        "    if K_D_prior==\"informative uniform prior for M units\":\n",
        "        K_D = pm.Uniform('K_D', 1e-9, 1e-3)\n",
        "    if K_D_prior==\"flat exponential prior for any unit\":\n",
        "        K_D = pm.Exponential('K_D', 1e-3)\n",
        "    c_fl = pm.TruncatedNormal('c_fl',mu=FluoConc,sigma=FluoConc/10.0,lower=1e-20, upper=1e8)\n",
        "\n",
        "    U=pm.Beta('U',alpha=1,beta=1)\n",
        "    B=pm.Beta('B',alpha=1,beta=1)\n",
        "    A_total=pm.Deterministic('A_total', U + (B-U)*((c_fl + cideal.astype(float) + K_D - pm.math.sqrt(pm.math.sqr(c_fl + cideal.astype(float) + K_D) - 4.0*c_fl*cideal.astype(float)))/(2*c_fl)))\n",
        "    \n",
        "    L=pm.Uniform('L',-1,1, shape=cap)\n",
        "    I=pm.Deterministic('I',1+L*start_t-A_total)\n",
        "    R=pm.Beta('R',alpha=2,beta=1, shape=cap)\n",
        "    A_1=pm.Deterministic('A_1',A_total*R)\n",
        "    A_2=pm.Deterministic('A_2',A_total*(1-R))\n",
        "    rate1=pm.Lognormal('rate1',0,1, shape=cap)\n",
        "    rate2=pm.Lognormal('rate2',0,1, shape=cap)\n",
        "\n",
        "    linearphase=L*(time-start_t)\n",
        "    E_1=A_1*pm.math.exp(-1.0*rate1*time)\n",
        "    E_2=A_2*pm.math.exp(-1.0*rate2*time)\n",
        "\n",
        "    epsilon = pm.Lognormal('epsilon', 0, 1)\n",
        "    laseron=np.tile(np.arange(0, len(onedtime)), (cap,1)).T\n",
        "\n",
        "    pr = switch(IR >= laseron, 1.0+linearphase, linearphase+I+E_1+E_2)\n",
        "\n",
        "\n",
        "    P = pm.Normal('P', mu=pr[start:end], sigma=epsilon, observed=fluorescence.astype(float).iloc[start:end])\n",
        "\n",
        "\n",
        "with model:\n",
        "    trace = pm.sampling.sample(Samples, tune=Tuning,\n",
        "                      init='ADVI'\n",
        "                     )\n",
        "    \n",
        "with model:\n",
        "    ppc = pm.sample_posterior_predictive(trace,model=model)"
      ],
      "metadata": {
        "id": "smyOSMXv5QpD",
        "outputId": "81c1f57f-0743-4f93-cc8d-70b85cb0c8a5",
        "colab": {
          "base_uri": "https://localhost:8080/",
          "height": 98
        },
        "cellView": "form"
      },
      "execution_count": null,
      "outputs": [
        {
          "output_type": "display_data",
          "data": {
            "text/plain": [
              "<IPython.core.display.HTML object>"
            ],
            "text/html": [
              "\n",
              "<style>\n",
              "    /* Turns off some styling */\n",
              "    progress {\n",
              "        /* gets rid of default border in Firefox and Opera. */\n",
              "        border: none;\n",
              "        /* Needs to be in here for Safari polyfill so background images work as expected. */\n",
              "        background-size: auto;\n",
              "    }\n",
              "    progress:not([value]), progress:not([value])::-webkit-progress-bar {\n",
              "        background: repeating-linear-gradient(45deg, #7e7e7e, #7e7e7e 10px, #5c5c5c 10px, #5c5c5c 20px);\n",
              "    }\n",
              "    .progress-bar-interrupted, .progress-bar-interrupted::-webkit-progress-bar {\n",
              "        background: #F44336;\n",
              "    }\n",
              "</style>\n"
            ]
          },
          "metadata": {}
        },
        {
          "output_type": "display_data",
          "data": {
            "text/plain": [
              "<IPython.core.display.HTML object>"
            ],
            "text/html": [
              "\n",
              "    <div>\n",
              "      <progress value='67410' class='' max='200000' style='width:300px; height:20px; vertical-align: middle;'></progress>\n",
              "      33.70% [67410/200000 01:12&lt;02:22 Average Loss = -33,752]\n",
              "    </div>\n",
              "    "
            ]
          },
          "metadata": {}
        },
        {
          "output_type": "display_data",
          "data": {
            "text/plain": [
              "<IPython.core.display.HTML object>"
            ],
            "text/html": [
              "\n",
              "<style>\n",
              "    /* Turns off some styling */\n",
              "    progress {\n",
              "        /* gets rid of default border in Firefox and Opera. */\n",
              "        border: none;\n",
              "        /* Needs to be in here for Safari polyfill so background images work as expected. */\n",
              "        background-size: auto;\n",
              "    }\n",
              "    progress:not([value]), progress:not([value])::-webkit-progress-bar {\n",
              "        background: repeating-linear-gradient(45deg, #7e7e7e, #7e7e7e 10px, #5c5c5c 10px, #5c5c5c 20px);\n",
              "    }\n",
              "    .progress-bar-interrupted, .progress-bar-interrupted::-webkit-progress-bar {\n",
              "        background: #F44336;\n",
              "    }\n",
              "</style>\n"
            ]
          },
          "metadata": {}
        },
        {
          "output_type": "display_data",
          "data": {
            "text/plain": [
              "<IPython.core.display.HTML object>"
            ],
            "text/html": [
              "\n",
              "    <div>\n",
              "      <progress value='3000' class='' max='3000' style='width:300px; height:20px; vertical-align: middle;'></progress>\n",
              "      100.00% [3000/3000 29:03&lt;00:00 Sampling chain 0, 0 divergences]\n",
              "    </div>\n",
              "    "
            ]
          },
          "metadata": {}
        },
        {
          "output_type": "display_data",
          "data": {
            "text/plain": [
              "<IPython.core.display.HTML object>"
            ],
            "text/html": [
              "\n",
              "<style>\n",
              "    /* Turns off some styling */\n",
              "    progress {\n",
              "        /* gets rid of default border in Firefox and Opera. */\n",
              "        border: none;\n",
              "        /* Needs to be in here for Safari polyfill so background images work as expected. */\n",
              "        background-size: auto;\n",
              "    }\n",
              "    progress:not([value]), progress:not([value])::-webkit-progress-bar {\n",
              "        background: repeating-linear-gradient(45deg, #7e7e7e, #7e7e7e 10px, #5c5c5c 10px, #5c5c5c 20px);\n",
              "    }\n",
              "    .progress-bar-interrupted, .progress-bar-interrupted::-webkit-progress-bar {\n",
              "        background: #F44336;\n",
              "    }\n",
              "</style>\n"
            ]
          },
          "metadata": {}
        },
        {
          "output_type": "display_data",
          "data": {
            "text/plain": [
              "<IPython.core.display.HTML object>"
            ],
            "text/html": [
              "\n",
              "    <div>\n",
              "      <progress value='3000' class='' max='3000' style='width:300px; height:20px; vertical-align: middle;'></progress>\n",
              "      100.00% [3000/3000 29:34&lt;00:00 Sampling chain 1, 0 divergences]\n",
              "    </div>\n",
              "    "
            ]
          },
          "metadata": {}
        },
        {
          "output_type": "display_data",
          "data": {
            "text/plain": [
              "<IPython.core.display.HTML object>"
            ],
            "text/html": [
              "\n",
              "<style>\n",
              "    /* Turns off some styling */\n",
              "    progress {\n",
              "        /* gets rid of default border in Firefox and Opera. */\n",
              "        border: none;\n",
              "        /* Needs to be in here for Safari polyfill so background images work as expected. */\n",
              "        background-size: auto;\n",
              "    }\n",
              "    progress:not([value]), progress:not([value])::-webkit-progress-bar {\n",
              "        background: repeating-linear-gradient(45deg, #7e7e7e, #7e7e7e 10px, #5c5c5c 10px, #5c5c5c 20px);\n",
              "    }\n",
              "    .progress-bar-interrupted, .progress-bar-interrupted::-webkit-progress-bar {\n",
              "        background: #F44336;\n",
              "    }\n",
              "</style>\n"
            ]
          },
          "metadata": {}
        },
        {
          "output_type": "display_data",
          "data": {
            "text/plain": [
              "<IPython.core.display.HTML object>"
            ],
            "text/html": [
              "\n",
              "    <div>\n",
              "      <progress value='4000' class='' max='4000' style='width:300px; height:20px; vertical-align: middle;'></progress>\n",
              "      100.00% [4000/4000 00:02&lt;00:00]\n",
              "    </div>\n",
              "    "
            ]
          },
          "metadata": {}
        }
      ]
    },
    {
      "cell_type": "code",
      "source": [
        "#@title STEP 3.2 (Alternative 2): Perform the MCMC sampling (linear phase starts at time 0)\n",
        "#@markdown Use scenario: Fnorm is stable at 1 before IR irradiation, but after irradiation there is a trendlike increase or decrease in at least some of the progress curves. Possible causes: temperature induced denaturation of proteins, direct IR absorption in protein results in an electrodynamic interaction between the target and the ligand.\n",
        "\n",
        "#@markdown Choose the concentration units to provide appropriate prior distribution for K_D.\n",
        "\n",
        "K_D_prior=\"informative uniform prior for nM units\" #@param [\"informative uniform prior for nM units\", \"informative uniform prior for M units\", \"flat exponential prior for any unit\"]\n",
        "\n",
        "\n",
        "#@markdown Enter the number of tuning and sampling steps for the Markov Chain Monte Carlo algorithm. Decrease these only if you know what you are doing.\n",
        "Tuning = 1000 #@param {type:\"number\"}\n",
        "Samples = 2000 #@param {type:\"number\"}\n",
        "\n",
        "IR=IR_pos.value\n",
        "start,end=Data_range.value\n",
        "cap=int(Capillary)\n",
        "time=np.array([onedtime[:,]]*cap,dtype=float).transpose()\n",
        "with pm.Model() as model:\n",
        "    if K_D_prior==\"informative uniform prior for nM units\":\n",
        "        K_D = pm.Uniform('K_D', 1, 1e6)\n",
        "    if K_D_prior==\"informative uniform prior for M units\":\n",
        "        K_D = pm.Uniform('K_D', 1e-9, 1e-3)\n",
        "    if K_D_prior==\"flat exponential prior for any unit\":\n",
        "        K_D = pm.Exponential('K_D', 1e-3)\n",
        "    c_fl = pm.TruncatedNormal('c_fl',mu=FluoConc,sigma=FluoConc/10.0, lower=0, upper=1e8)\n",
        "\n",
        "    U=pm.Beta('U',alpha=1,beta=1)\n",
        "    B=pm.Beta('B',alpha=1,beta=1)\n",
        "    A_total=pm.Deterministic('A_total', U + (B-U)*((c_fl + cideal.astype(float) + K_D - pm.math.sqrt(pm.math.sqr(c_fl + cideal.astype(float) + K_D) - 4.0*c_fl*cideal.astype(float)))/(2*c_fl)))\n",
        "    \n",
        "    L=pm.Uniform('L',-1,1, shape=cap)\n",
        "    I=pm.Deterministic('I',1-A_total)\n",
        "    R=pm.Beta('R',alpha=2,beta=1, shape=cap)\n",
        "    A_1=pm.Deterministic('A_1',A_total*R)\n",
        "    A_2=pm.Deterministic('A_2',A_total*(1-R))\n",
        "    rate1=pm.Lognormal('rate1',0,1, shape=cap)\n",
        "    rate2=pm.Lognormal('rate2',0,1, shape=cap)\n",
        "\n",
        "    linearphase=L*(time)\n",
        "    E_1=A_1*pm.math.exp(-1.0*rate1*time)\n",
        "    E_2=A_2*pm.math.exp(-1.0*rate2*time)\n",
        "\n",
        "    epsilon = pm.Lognormal('epsilon', 0, 1)\n",
        "    laseron=np.tile(np.arange(0, len(onedtime)), (cap,1)).T\n",
        "\n",
        "    pr = switch(IR >= laseron, 1.0, linearphase+I+E_1+E_2)\n",
        "\n",
        "\n",
        "    P = pm.Normal('P', mu=pr[start:end], sigma=epsilon, observed=fluorescence.astype(float).iloc[start:end])\n",
        "  \n",
        "with model:\n",
        "    trace = pm.sampling.sample(Samples, tune=Tuning,\n",
        "                      init='ADVI'\n",
        "                     )\n",
        "    \n",
        "with model:\n",
        "    ppc = pm.sample_posterior_predictive(trace,model=model)"
      ],
      "metadata": {
        "id": "OgMcYdCRcc_R",
        "cellView": "form",
        "colab": {
          "base_uri": "https://localhost:8080/",
          "height": 98
        },
        "outputId": "07aebdd6-0c77-44fb-9b6c-4033c8d130ca"
      },
      "execution_count": null,
      "outputs": [
        {
          "output_type": "display_data",
          "data": {
            "text/plain": [
              "<IPython.core.display.HTML object>"
            ],
            "text/html": [
              "\n",
              "<style>\n",
              "    /* Turns off some styling */\n",
              "    progress {\n",
              "        /* gets rid of default border in Firefox and Opera. */\n",
              "        border: none;\n",
              "        /* Needs to be in here for Safari polyfill so background images work as expected. */\n",
              "        background-size: auto;\n",
              "    }\n",
              "    progress:not([value]), progress:not([value])::-webkit-progress-bar {\n",
              "        background: repeating-linear-gradient(45deg, #7e7e7e, #7e7e7e 10px, #5c5c5c 10px, #5c5c5c 20px);\n",
              "    }\n",
              "    .progress-bar-interrupted, .progress-bar-interrupted::-webkit-progress-bar {\n",
              "        background: #F44336;\n",
              "    }\n",
              "</style>\n"
            ]
          },
          "metadata": {}
        },
        {
          "output_type": "display_data",
          "data": {
            "text/plain": [
              "<IPython.core.display.HTML object>"
            ],
            "text/html": [
              "\n",
              "    <div>\n",
              "      <progress value='69908' class='' max='200000' style='width:300px; height:20px; vertical-align: middle;'></progress>\n",
              "      34.95% [69908/200000 01:14&lt;02:18 Average Loss = -33,943]\n",
              "    </div>\n",
              "    "
            ]
          },
          "metadata": {}
        },
        {
          "output_type": "display_data",
          "data": {
            "text/plain": [
              "<IPython.core.display.HTML object>"
            ],
            "text/html": [
              "\n",
              "<style>\n",
              "    /* Turns off some styling */\n",
              "    progress {\n",
              "        /* gets rid of default border in Firefox and Opera. */\n",
              "        border: none;\n",
              "        /* Needs to be in here for Safari polyfill so background images work as expected. */\n",
              "        background-size: auto;\n",
              "    }\n",
              "    progress:not([value]), progress:not([value])::-webkit-progress-bar {\n",
              "        background: repeating-linear-gradient(45deg, #7e7e7e, #7e7e7e 10px, #5c5c5c 10px, #5c5c5c 20px);\n",
              "    }\n",
              "    .progress-bar-interrupted, .progress-bar-interrupted::-webkit-progress-bar {\n",
              "        background: #F44336;\n",
              "    }\n",
              "</style>\n"
            ]
          },
          "metadata": {}
        },
        {
          "output_type": "display_data",
          "data": {
            "text/plain": [
              "<IPython.core.display.HTML object>"
            ],
            "text/html": [
              "\n",
              "    <div>\n",
              "      <progress value='3000' class='' max='3000' style='width:300px; height:20px; vertical-align: middle;'></progress>\n",
              "      100.00% [3000/3000 33:32&lt;00:00 Sampling chain 0, 0 divergences]\n",
              "    </div>\n",
              "    "
            ]
          },
          "metadata": {}
        },
        {
          "output_type": "display_data",
          "data": {
            "text/plain": [
              "<IPython.core.display.HTML object>"
            ],
            "text/html": [
              "\n",
              "<style>\n",
              "    /* Turns off some styling */\n",
              "    progress {\n",
              "        /* gets rid of default border in Firefox and Opera. */\n",
              "        border: none;\n",
              "        /* Needs to be in here for Safari polyfill so background images work as expected. */\n",
              "        background-size: auto;\n",
              "    }\n",
              "    progress:not([value]), progress:not([value])::-webkit-progress-bar {\n",
              "        background: repeating-linear-gradient(45deg, #7e7e7e, #7e7e7e 10px, #5c5c5c 10px, #5c5c5c 20px);\n",
              "    }\n",
              "    .progress-bar-interrupted, .progress-bar-interrupted::-webkit-progress-bar {\n",
              "        background: #F44336;\n",
              "    }\n",
              "</style>\n"
            ]
          },
          "metadata": {}
        },
        {
          "output_type": "display_data",
          "data": {
            "text/plain": [
              "<IPython.core.display.HTML object>"
            ],
            "text/html": [
              "\n",
              "    <div>\n",
              "      <progress value='3000' class='' max='3000' style='width:300px; height:20px; vertical-align: middle;'></progress>\n",
              "      100.00% [3000/3000 33:58&lt;00:00 Sampling chain 1, 0 divergences]\n",
              "    </div>\n",
              "    "
            ]
          },
          "metadata": {}
        },
        {
          "output_type": "display_data",
          "data": {
            "text/plain": [
              "<IPython.core.display.HTML object>"
            ],
            "text/html": [
              "\n",
              "<style>\n",
              "    /* Turns off some styling */\n",
              "    progress {\n",
              "        /* gets rid of default border in Firefox and Opera. */\n",
              "        border: none;\n",
              "        /* Needs to be in here for Safari polyfill so background images work as expected. */\n",
              "        background-size: auto;\n",
              "    }\n",
              "    progress:not([value]), progress:not([value])::-webkit-progress-bar {\n",
              "        background: repeating-linear-gradient(45deg, #7e7e7e, #7e7e7e 10px, #5c5c5c 10px, #5c5c5c 20px);\n",
              "    }\n",
              "    .progress-bar-interrupted, .progress-bar-interrupted::-webkit-progress-bar {\n",
              "        background: #F44336;\n",
              "    }\n",
              "</style>\n"
            ]
          },
          "metadata": {}
        },
        {
          "output_type": "display_data",
          "data": {
            "text/plain": [
              "<IPython.core.display.HTML object>"
            ],
            "text/html": [
              "\n",
              "    <div>\n",
              "      <progress value='4000' class='' max='4000' style='width:300px; height:20px; vertical-align: middle;'></progress>\n",
              "      100.00% [4000/4000 00:03&lt;00:00]\n",
              "    </div>\n",
              "    "
            ]
          },
          "metadata": {}
        }
      ]
    },
    {
      "cell_type": "code",
      "source": [
        "#@title STEP 4: Statistics of global variables\n",
        "#@markdown If you are finished with Step 1-3, the later steps do not have to follow in strict order. <p>\n",
        "#@markdown K_D and c_fl units are traditionally expressed in nM in the Nanotemper software, U, B and epsilon are expressed as Fnorm.  \n",
        "pm.stats.summary(trace,var_names=['K_D','B','U', 'epsilon','c_fl'])\n"
      ],
      "metadata": {
        "colab": {
          "base_uri": "https://localhost:8080/",
          "height": 206
        },
        "id": "59F3JTPXdNR4",
        "outputId": "ac41e323-56a1-4812-d671-deecc63594c9",
        "cellView": "form"
      },
      "execution_count": null,
      "outputs": [
        {
          "output_type": "execute_result",
          "data": {
            "text/plain": [
              "             mean       sd    hdi_3%   hdi_97%  mcse_mean  mcse_sd  ess_bulk  \\\n",
              "K_D      1870.981  248.520  1428.142  2348.605     10.344    7.318     578.0   \n",
              "B           0.277    0.001     0.276     0.279      0.000    0.000    1008.0   \n",
              "U           0.248    0.001     0.247     0.249      0.000    0.000     350.0   \n",
              "epsilon     0.001    0.000     0.001     0.001      0.000    0.000    4333.0   \n",
              "c_fl       19.989    1.993    16.094    23.557      0.030    0.021    4459.0   \n",
              "\n",
              "         ess_tail  r_hat  \n",
              "K_D         965.0    1.0  \n",
              "B          1643.0    1.0  \n",
              "U           583.0    1.0  \n",
              "epsilon    2562.0    1.0  \n",
              "c_fl       2364.0    1.0  "
            ],
            "text/html": [
              "\n",
              "  <div id=\"df-cc91afe1-8ff3-4d96-8d75-f2596f2cb8c0\">\n",
              "    <div class=\"colab-df-container\">\n",
              "      <div>\n",
              "<style scoped>\n",
              "    .dataframe tbody tr th:only-of-type {\n",
              "        vertical-align: middle;\n",
              "    }\n",
              "\n",
              "    .dataframe tbody tr th {\n",
              "        vertical-align: top;\n",
              "    }\n",
              "\n",
              "    .dataframe thead th {\n",
              "        text-align: right;\n",
              "    }\n",
              "</style>\n",
              "<table border=\"1\" class=\"dataframe\">\n",
              "  <thead>\n",
              "    <tr style=\"text-align: right;\">\n",
              "      <th></th>\n",
              "      <th>mean</th>\n",
              "      <th>sd</th>\n",
              "      <th>hdi_3%</th>\n",
              "      <th>hdi_97%</th>\n",
              "      <th>mcse_mean</th>\n",
              "      <th>mcse_sd</th>\n",
              "      <th>ess_bulk</th>\n",
              "      <th>ess_tail</th>\n",
              "      <th>r_hat</th>\n",
              "    </tr>\n",
              "  </thead>\n",
              "  <tbody>\n",
              "    <tr>\n",
              "      <th>K_D</th>\n",
              "      <td>1870.981</td>\n",
              "      <td>248.520</td>\n",
              "      <td>1428.142</td>\n",
              "      <td>2348.605</td>\n",
              "      <td>10.344</td>\n",
              "      <td>7.318</td>\n",
              "      <td>578.0</td>\n",
              "      <td>965.0</td>\n",
              "      <td>1.0</td>\n",
              "    </tr>\n",
              "    <tr>\n",
              "      <th>B</th>\n",
              "      <td>0.277</td>\n",
              "      <td>0.001</td>\n",
              "      <td>0.276</td>\n",
              "      <td>0.279</td>\n",
              "      <td>0.000</td>\n",
              "      <td>0.000</td>\n",
              "      <td>1008.0</td>\n",
              "      <td>1643.0</td>\n",
              "      <td>1.0</td>\n",
              "    </tr>\n",
              "    <tr>\n",
              "      <th>U</th>\n",
              "      <td>0.248</td>\n",
              "      <td>0.001</td>\n",
              "      <td>0.247</td>\n",
              "      <td>0.249</td>\n",
              "      <td>0.000</td>\n",
              "      <td>0.000</td>\n",
              "      <td>350.0</td>\n",
              "      <td>583.0</td>\n",
              "      <td>1.0</td>\n",
              "    </tr>\n",
              "    <tr>\n",
              "      <th>epsilon</th>\n",
              "      <td>0.001</td>\n",
              "      <td>0.000</td>\n",
              "      <td>0.001</td>\n",
              "      <td>0.001</td>\n",
              "      <td>0.000</td>\n",
              "      <td>0.000</td>\n",
              "      <td>4333.0</td>\n",
              "      <td>2562.0</td>\n",
              "      <td>1.0</td>\n",
              "    </tr>\n",
              "    <tr>\n",
              "      <th>c_fl</th>\n",
              "      <td>19.989</td>\n",
              "      <td>1.993</td>\n",
              "      <td>16.094</td>\n",
              "      <td>23.557</td>\n",
              "      <td>0.030</td>\n",
              "      <td>0.021</td>\n",
              "      <td>4459.0</td>\n",
              "      <td>2364.0</td>\n",
              "      <td>1.0</td>\n",
              "    </tr>\n",
              "  </tbody>\n",
              "</table>\n",
              "</div>\n",
              "      <button class=\"colab-df-convert\" onclick=\"convertToInteractive('df-cc91afe1-8ff3-4d96-8d75-f2596f2cb8c0')\"\n",
              "              title=\"Convert this dataframe to an interactive table.\"\n",
              "              style=\"display:none;\">\n",
              "        \n",
              "  <svg xmlns=\"http://www.w3.org/2000/svg\" height=\"24px\"viewBox=\"0 0 24 24\"\n",
              "       width=\"24px\">\n",
              "    <path d=\"M0 0h24v24H0V0z\" fill=\"none\"/>\n",
              "    <path d=\"M18.56 5.44l.94 2.06.94-2.06 2.06-.94-2.06-.94-.94-2.06-.94 2.06-2.06.94zm-11 1L8.5 8.5l.94-2.06 2.06-.94-2.06-.94L8.5 2.5l-.94 2.06-2.06.94zm10 10l.94 2.06.94-2.06 2.06-.94-2.06-.94-.94-2.06-.94 2.06-2.06.94z\"/><path d=\"M17.41 7.96l-1.37-1.37c-.4-.4-.92-.59-1.43-.59-.52 0-1.04.2-1.43.59L10.3 9.45l-7.72 7.72c-.78.78-.78 2.05 0 2.83L4 21.41c.39.39.9.59 1.41.59.51 0 1.02-.2 1.41-.59l7.78-7.78 2.81-2.81c.8-.78.8-2.07 0-2.86zM5.41 20L4 18.59l7.72-7.72 1.47 1.35L5.41 20z\"/>\n",
              "  </svg>\n",
              "      </button>\n",
              "      \n",
              "  <style>\n",
              "    .colab-df-container {\n",
              "      display:flex;\n",
              "      flex-wrap:wrap;\n",
              "      gap: 12px;\n",
              "    }\n",
              "\n",
              "    .colab-df-convert {\n",
              "      background-color: #E8F0FE;\n",
              "      border: none;\n",
              "      border-radius: 50%;\n",
              "      cursor: pointer;\n",
              "      display: none;\n",
              "      fill: #1967D2;\n",
              "      height: 32px;\n",
              "      padding: 0 0 0 0;\n",
              "      width: 32px;\n",
              "    }\n",
              "\n",
              "    .colab-df-convert:hover {\n",
              "      background-color: #E2EBFA;\n",
              "      box-shadow: 0px 1px 2px rgba(60, 64, 67, 0.3), 0px 1px 3px 1px rgba(60, 64, 67, 0.15);\n",
              "      fill: #174EA6;\n",
              "    }\n",
              "\n",
              "    [theme=dark] .colab-df-convert {\n",
              "      background-color: #3B4455;\n",
              "      fill: #D2E3FC;\n",
              "    }\n",
              "\n",
              "    [theme=dark] .colab-df-convert:hover {\n",
              "      background-color: #434B5C;\n",
              "      box-shadow: 0px 1px 3px 1px rgba(0, 0, 0, 0.15);\n",
              "      filter: drop-shadow(0px 1px 2px rgba(0, 0, 0, 0.3));\n",
              "      fill: #FFFFFF;\n",
              "    }\n",
              "  </style>\n",
              "\n",
              "      <script>\n",
              "        const buttonEl =\n",
              "          document.querySelector('#df-cc91afe1-8ff3-4d96-8d75-f2596f2cb8c0 button.colab-df-convert');\n",
              "        buttonEl.style.display =\n",
              "          google.colab.kernel.accessAllowed ? 'block' : 'none';\n",
              "\n",
              "        async function convertToInteractive(key) {\n",
              "          const element = document.querySelector('#df-cc91afe1-8ff3-4d96-8d75-f2596f2cb8c0');\n",
              "          const dataTable =\n",
              "            await google.colab.kernel.invokeFunction('convertToInteractive',\n",
              "                                                     [key], {});\n",
              "          if (!dataTable) return;\n",
              "\n",
              "          const docLinkHtml = 'Like what you see? Visit the ' +\n",
              "            '<a target=\"_blank\" href=https://colab.research.google.com/notebooks/data_table.ipynb>data table notebook</a>'\n",
              "            + ' to learn more about interactive tables.';\n",
              "          element.innerHTML = '';\n",
              "          dataTable['output_type'] = 'display_data';\n",
              "          await google.colab.output.renderOutput(dataTable, element);\n",
              "          const docLink = document.createElement('div');\n",
              "          docLink.innerHTML = docLinkHtml;\n",
              "          element.appendChild(docLink);\n",
              "        }\n",
              "      </script>\n",
              "    </div>\n",
              "  </div>\n",
              "  "
            ]
          },
          "metadata": {},
          "execution_count": 10
        }
      ]
    },
    {
      "cell_type": "code",
      "source": [
        "#@title STEP 5: Posterior predictive check { run: \"auto\" }\n",
        "#@markdown The shaded area represent the High Density Interval (95%) of the posterior predictions.\n",
        "#@markdown <p> Choose the capillary to analyse:\n",
        "Cap_display = \"16\" #@param [\"1\", \"2\", \"3\", \"4\", \"5\", \"6\", \"7\", \"8\", \"9\", \"10\", \"11\", \"12\", \"13\", \"14\", \"15\", \"16\"]\n",
        "\n",
        "plt.plot(onedtime[start:end],fluorescence[int(Cap_display)-1].astype(float).iloc[start:end], color='gray')\n",
        "plt.plot(onedtime[start:end],np.mean(ppc['posterior_predictive']['P'][0,:,:,int(Cap_display)-1], axis=0))\n",
        "plt.fill_between(np.array(onedtime[start:end],dtype=float), np.array(pm.stats.hdi(ppc['posterior_predictive'],var_names=['P']).to_array())[0,:,int(Cap_display)-1,0] ,np.array(pm.stats.hdi(ppc['posterior_predictive'],var_names=['P']).to_array())[0,:,int(Cap_display)-1,1] , alpha=0.5)\n"
      ],
      "metadata": {
        "colab": {
          "base_uri": "https://localhost:8080/",
          "height": 282
        },
        "id": "1MjwpdO-NhSi",
        "outputId": "869f21b2-4d1e-4ae3-9b07-57c860d8beff",
        "cellView": "form"
      },
      "execution_count": null,
      "outputs": [
        {
          "output_type": "execute_result",
          "data": {
            "text/plain": [
              "<matplotlib.collections.PolyCollection at 0x7f9f163217c0>"
            ]
          },
          "metadata": {},
          "execution_count": 11
        },
        {
          "output_type": "display_data",
          "data": {
            "text/plain": [
              "<Figure size 432x288 with 1 Axes>"
            ],
            "image/png": "[encoded data removed]"
          },
          "metadata": {
            "needs_background": "light"
          }
        }
      ]
    },
    {
      "cell_type": "code",
      "source": [
        "#@title STEP 6: Concentration dependence of the kinetic parameters. { run: \"auto\" }\n",
        "#@markdown The error bars represent the High Density Interval (95%) of the posterior distribution.<p>\n",
        "#@markdown Choose the variable name:\n",
        "parameter = \"A_total\" #@param [\"A_total\",\"I\", \"rate1\", \"rate2\", \"A_1\", \"A_2\", \"L\"]\n",
        "fig=plt.subplot(111)\n",
        "stacked=az.extract(trace)\n",
        "\n",
        "plt.errorbar(cideal,np.median(stacked[parameter].values.T,axis=0),yerr=np.abs(pm.hdi(stacked[parameter].values.T).T-np.median(stacked[parameter].values.T,axis=0)))\n",
        "fig.set_xscale('log')"
      ],
      "metadata": {
        "colab": {
          "base_uri": "https://localhost:8080/",
          "height": 308
        },
        "id": "jy6L8---Yu3g",
        "outputId": "dadaca8c-b106-4f94-a4e0-3e21f9969622",
        "cellView": "form"
      },
      "execution_count": null,
      "outputs": [
        {
          "output_type": "stream",
          "name": "stderr",
          "text": [
            "<ipython-input-45-b240a20eb6df>:8: FutureWarning: hdi currently interprets 2d data as (draw, shape) but this will change in a future release to (chain, draw) for coherence with other functions\n",
            "  plt.errorbar(cideal,np.median(stacked[parameter].values.T,axis=0),yerr=np.abs(pm.hdi(stacked[parameter].values.T).T-np.median(stacked[parameter].values.T,axis=0)))\n"
          ]
        },
        {
          "output_type": "display_data",
          "data": {
            "text/plain": [
              "<Figure size 432x288 with 1 Axes>"
            ],
            "image/png": "[encoded data removed]"
          },
          "metadata": {
            "needs_background": "light"
          }
        }
      ]
    },
    {
      "cell_type": "code",
      "source": [
        "#@title STEP 7: Posterior distribution of model parameters (left), parameter trace (right). { run: \"auto\" }\n",
        "#@markdown Ideally the parameter traces fluctuate around a stable value.<p> \n",
        "#@markdown Choose the parameter name:\n",
        "parameter = \"K_D\" #@param [\"K_D\",\"B\",\"U\",\"epsilon\",\"A_total\",\"I\", \"rate1\", \"rate2\", \"A_1\", \"A_2\", \"L\"]\n",
        "with model:\n",
        "  ax=pm.plot_trace(trace,[parameter],combined=True)"
      ],
      "metadata": {
        "colab": {
          "base_uri": "https://localhost:8080/",
          "height": 171
        },
        "id": "i7Pl-BazZxcB",
        "outputId": "f380763a-c5d7-4a6b-812c-83d01151a987",
        "cellView": "form"
      },
      "execution_count": null,
      "outputs": [
        {
          "output_type": "display_data",
          "data": {
            "text/plain": [
              "<Figure size 864x144 with 2 Axes>"
            ],
            "image/png": "[encoded data removed]"
          },
          "metadata": {
            "needs_background": "light"
          }
        }
      ]
    }
  ]
}